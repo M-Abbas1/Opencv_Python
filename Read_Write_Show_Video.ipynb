{
 "cells": [
  {
   "cell_type": "markdown",
   "id": "42774d65",
   "metadata": {},
   "source": [
    "## Video Reading From camera"
   ]
  },
  {
   "cell_type": "code",
   "execution_count": 1,
   "id": "901a541c",
   "metadata": {},
   "outputs": [],
   "source": [
    "import cv2;"
   ]
  },
  {
   "cell_type": "code",
   "execution_count": 2,
   "id": "1c965b8d",
   "metadata": {},
   "outputs": [],
   "source": [
    "cap = cv2.VideoCapture(0);   # \"0\" is index for camera"
   ]
  },
  {
   "cell_type": "code",
   "execution_count": 3,
   "id": "cf30e3cc",
   "metadata": {},
   "outputs": [],
   "source": [
    "while (True):\n",
    "    ret, frame = cap.read();     # the cap.read() method return two object one is frame and the other is boolean value which \n",
    "    cv2.imshow(\"Frame\", frame);   # shows whether the frame is availble or not.\n",
    "    \n",
    "    if cv2.waitKey(1)==ord('q'):\n",
    "        break;\n",
    "\n",
    "cap.release();\n",
    "cv2.destroyAllWindows();"
   ]
  },
  {
   "cell_type": "code",
   "execution_count": null,
   "id": "a07a5d59",
   "metadata": {},
   "outputs": [],
   "source": []
  },
  {
   "cell_type": "code",
   "execution_count": 4,
   "id": "26d38da5",
   "metadata": {},
   "outputs": [],
   "source": [
    "cap = cv2.VideoCapture(0);"
   ]
  },
  {
   "cell_type": "code",
   "execution_count": 5,
   "id": "b82c84d0",
   "metadata": {},
   "outputs": [],
   "source": [
    "# Conerting to Gray Scale\n",
    "\n",
    "while (True):\n",
    "    ret, frame = cap.read();\n",
    "    gray = cv2.cvtColor(frame, cv2.COLOR_BGR2GRAY);\n",
    "    cv2.imshow(\"Frame\", gray);\n",
    "    \n",
    "    if cv2.waitKey(1)==ord('q'):\n",
    "        break;\n",
    "\n",
    "cap.release();\n",
    "cv2.destroyAllWindows();"
   ]
  },
  {
   "cell_type": "code",
   "execution_count": 6,
   "id": "1321370d",
   "metadata": {},
   "outputs": [],
   "source": [
    "cap = cv2.VideoCapture(0);"
   ]
  },
  {
   "cell_type": "code",
   "execution_count": 7,
   "id": "86129c74",
   "metadata": {},
   "outputs": [],
   "source": [
    "# To show the last frame of Video\n",
    "\n",
    "while (True):\n",
    "    ret, frame = cap.read();\n",
    "    cv2.imshow(\"Frame\", frame);\n",
    "    \n",
    "    if cv2.waitKey(1)==ord('q'):\n",
    "        break;\n",
    "\n",
    "cap.release();\n",
    "cv2.destroyAllWindows();\n",
    "\n",
    "# show last frame\n",
    "cv2.imshow('Last Frame', frame);\n",
    "cv2.waitKey(0);\n",
    "cv2.destroyAllWindows();"
   ]
  },
  {
   "cell_type": "code",
   "execution_count": null,
   "id": "7cdc985d",
   "metadata": {},
   "outputs": [],
   "source": []
  },
  {
   "cell_type": "code",
   "execution_count": 10,
   "id": "eb227cf7",
   "metadata": {},
   "outputs": [],
   "source": [
    "cap = cv2.VideoCapture(0);\n",
    "\n",
    "while True:\n",
    "    ret,frame = cap.read();\n",
    "#     gray = cv2.cvtColor(frame, cv2.COLOR_BGR2GRAY)\n",
    "    cv2.imshow(\"Frame\", frame);\n",
    "    k = cv2.waitKey(1);\n",
    "    if k == ord('q'):\n",
    "        break;\n",
    "        \n",
    "cap.release();\n",
    "cv2.destroyAllWindows();"
   ]
  },
  {
   "cell_type": "code",
   "execution_count": null,
   "id": "d93ec6a5",
   "metadata": {},
   "outputs": [],
   "source": []
  },
  {
   "cell_type": "code",
   "execution_count": 18,
   "id": "9c732c72",
   "metadata": {},
   "outputs": [
    {
     "name": "stdout",
     "output_type": "stream",
     "text": [
      "True\n"
     ]
    }
   ],
   "source": [
    "cap = cv2.VideoCapture(0);\n",
    "print(cap.isOpened());\n",
    "\n",
    "while cap.isOpened():             # cap.isOpened() return a boolean value, whether the cap is opened or not\n",
    "    ret,frame = cap.read();\n",
    "    cv2.imshow(\"Frame\", frame);\n",
    "    \n",
    "    if cv2.waitKey(1) == ord(' '):\n",
    "        break;\n",
    "        \n",
    "cap.release();\n",
    "cv2.destroyAllWindows();"
   ]
  },
  {
   "cell_type": "code",
   "execution_count": null,
   "id": "a37d4066",
   "metadata": {},
   "outputs": [],
   "source": []
  },
  {
   "cell_type": "markdown",
   "id": "d2de5d24",
   "metadata": {},
   "source": [
    "### Reading a Video From Storage"
   ]
  },
  {
   "cell_type": "code",
   "execution_count": 29,
   "id": "6e156115",
   "metadata": {},
   "outputs": [
    {
     "name": "stdout",
     "output_type": "stream",
     "text": [
      "True\n",
      "256.0\n",
      "144.0\n"
     ]
    }
   ],
   "source": [
    "cap = cv2.VideoCapture(r'D:\\Social\\Facebook(144p).mp4');\n",
    "print(cap.isOpened());\n",
    "\n",
    "print(cap.get(cv2.CAP_PROP_FRAME_WIDTH))              # To get the width of frame\n",
    "print(cap.get(cv2.CAP_PROP_FRAME_HEIGHT))             # To get the height of frame\n",
    "\n",
    "while cap.isOpened():\n",
    "    ret,frame = cap.read()\n",
    "    cv2.imshow(\"Frame\", frame);\n",
    "    \n",
    "    if cv2.waitKey(50) == ord(' '):\n",
    "        break;\n",
    "        \n",
    "cap.release();\n",
    "cv2.destroyAllWindows();"
   ]
  },
  {
   "cell_type": "code",
   "execution_count": null,
   "id": "7111be11",
   "metadata": {},
   "outputs": [],
   "source": []
  }
 ],
 "metadata": {
  "kernelspec": {
   "display_name": "Python 3 (ipykernel)",
   "language": "python",
   "name": "python3"
  },
  "language_info": {
   "codemirror_mode": {
    "name": "ipython",
    "version": 3
   },
   "file_extension": ".py",
   "mimetype": "text/x-python",
   "name": "python",
   "nbconvert_exporter": "python",
   "pygments_lexer": "ipython3",
   "version": "3.10.9"
  }
 },
 "nbformat": 4,
 "nbformat_minor": 5
}
