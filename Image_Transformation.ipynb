{
 "cells": [
  {
   "cell_type": "code",
   "execution_count": 1,
   "id": "2101687f",
   "metadata": {},
   "outputs": [],
   "source": [
    "import numpy as np;\n",
    "import cv2;\n",
    "import matplotlib.pyplot as plt;"
   ]
  },
  {
   "cell_type": "code",
   "execution_count": 3,
   "id": "a416f66d",
   "metadata": {},
   "outputs": [],
   "source": [
    "img = cv2.imread(\"images\\lena.jpg\", 0);\n",
    "cv2.imshow(\"Image\", img);\n",
    "cv2.waitKey(0);\n",
    "cv2.destroyAllWindows();"
   ]
  },
  {
   "cell_type": "markdown",
   "id": "8b78afdb",
   "metadata": {},
   "source": [
    "### Negative Transformation"
   ]
  },
  {
   "cell_type": "code",
   "execution_count": 4,
   "id": "9bd8b6ed",
   "metadata": {},
   "outputs": [],
   "source": [
    "negative_img = 255-1-img;\n",
    "cv2.imshow(\"Negative Image\", negative_img);\n",
    "cv2.waitKey(0);\n",
    "cv2.destroyAllWindows();"
   ]
  },
  {
   "cell_type": "code",
   "execution_count": null,
   "id": "1fa21ce5",
   "metadata": {},
   "outputs": [],
   "source": []
  },
  {
   "cell_type": "code",
   "execution_count": 6,
   "id": "b1f3b2f5",
   "metadata": {},
   "outputs": [],
   "source": [
    "img = cv2.imread(r\"images\\Fig0304(a)(breast_digital_Xray).tif\", 0);\n",
    "trans_img = 255 - 1 - img;\n",
    "cv2.imshow(\"Origional Image\", img);\n",
    "cv2.imshow(\"Transformed Image\", trans_img);\n",
    "cv2.waitKey(0);\n",
    "cv2.destroyAllWindows();"
   ]
  },
  {
   "cell_type": "code",
   "execution_count": null,
   "id": "748b76e3",
   "metadata": {},
   "outputs": [],
   "source": []
  }
 ],
 "metadata": {
  "kernelspec": {
   "display_name": "Python 3 (ipykernel)",
   "language": "python",
   "name": "python3"
  },
  "language_info": {
   "codemirror_mode": {
    "name": "ipython",
    "version": 3
   },
   "file_extension": ".py",
   "mimetype": "text/x-python",
   "name": "python",
   "nbconvert_exporter": "python",
   "pygments_lexer": "ipython3",
   "version": "3.10.9"
  }
 },
 "nbformat": 4,
 "nbformat_minor": 5
}
