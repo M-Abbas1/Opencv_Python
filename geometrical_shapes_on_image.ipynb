{
 "cells": [
  {
   "cell_type": "markdown",
   "id": "c38e3c40",
   "metadata": {},
   "source": [
    "## Drawing Geometric Shapes on Image"
   ]
  },
  {
   "cell_type": "code",
   "execution_count": 29,
   "id": "6a37e4aa",
   "metadata": {},
   "outputs": [],
   "source": [
    "import numpy as np;\n",
    "import cv2;"
   ]
  },
  {
   "cell_type": "code",
   "execution_count": 30,
   "id": "54860ccb",
   "metadata": {},
   "outputs": [],
   "source": [
    "# Read an Image\n",
    "img = cv2.imread(r'C:\\Users\\ABBAS\\Desktop\\JupyterPython\\Numpy\\DIP_Lab\\Images\\imge.jpg', 1);"
   ]
  },
  {
   "cell_type": "code",
   "execution_count": 31,
   "id": "53ba68fc",
   "metadata": {},
   "outputs": [],
   "source": [
    "# Show Image\n",
    "cv2.imshow(\"Lena\", img);\n",
    "cv2.waitKey(0);\n",
    "cv2.destroyAllWindows();"
   ]
  },
  {
   "cell_type": "code",
   "execution_count": 4,
   "id": "15a79699",
   "metadata": {},
   "outputs": [
    {
     "data": {
      "text/plain": [
       "(225, 225, 3)"
      ]
     },
     "execution_count": 4,
     "metadata": {},
     "output_type": "execute_result"
    }
   ],
   "source": [
    "img.shape"
   ]
  },
  {
   "cell_type": "code",
   "execution_count": 5,
   "id": "a7f098a0",
   "metadata": {},
   "outputs": [],
   "source": [
    "# Drawing a line on image\n",
    "# LINE FUNCTION\n",
    "# cv2.line(img, starting_coordinates, ending_coordinates, color, thicness)\n",
    "\n",
    "line_img = cv2.line(img, (0,0), (200,200), (0,0,255), 20);\n",
    "\n",
    "# Show Image\n",
    "cv2.imshow(\"Lined Image\", line_img);\n",
    "cv2.waitKey(0);\n",
    "cv2.destroyAllWindows();"
   ]
  },
  {
   "cell_type": "code",
   "execution_count": null,
   "id": "b13637b0",
   "metadata": {},
   "outputs": [],
   "source": [
    "L_img = cv2.line(img, (2))"
   ]
  },
  {
   "cell_type": "code",
   "execution_count": null,
   "id": "59b7be67",
   "metadata": {},
   "outputs": [],
   "source": []
  },
  {
   "cell_type": "code",
   "execution_count": null,
   "id": "78415a66",
   "metadata": {},
   "outputs": [],
   "source": []
  },
  {
   "cell_type": "code",
   "execution_count": 6,
   "id": "e5c411b1",
   "metadata": {},
   "outputs": [],
   "source": [
    "# Trying to Built a function like line function\n",
    "# m = (y2 - y1)/(x2 - x1)"
   ]
  },
  {
   "cell_type": "code",
   "execution_count": 7,
   "id": "54b06ca4",
   "metadata": {},
   "outputs": [
    {
     "data": {
      "text/plain": [
       "1.0"
      ]
     },
     "execution_count": 7,
     "metadata": {},
     "output_type": "execute_result"
    }
   ],
   "source": [
    "m = (200-0)/(200-0)\n",
    "m"
   ]
  },
  {
   "cell_type": "code",
   "execution_count": 22,
   "id": "0b9d51d4",
   "metadata": {},
   "outputs": [
    {
     "name": "stdout",
     "output_type": "stream",
     "text": [
      "x Dalta : 0   y Dalta : 90\n"
     ]
    }
   ],
   "source": [
    "# x_dalta = 200-0     \n",
    "# y_dalta = 200-0\n",
    "\n",
    "# points   (10,10)  to  (10,100)\n",
    "x_dalta = 10-10;\n",
    "y_dalta = 100-10;\n",
    "\n",
    "print(\"x Dalta :\",x_dalta, \"  y Dalta :\", y_dalta);"
   ]
  },
  {
   "cell_type": "code",
   "execution_count": 23,
   "id": "36c8749f",
   "metadata": {},
   "outputs": [
    {
     "data": {
      "text/plain": [
       "90"
      ]
     },
     "execution_count": 23,
     "metadata": {},
     "output_type": "execute_result"
    }
   ],
   "source": [
    "nop = max([x_dalta, y_dalta])\n",
    "nop"
   ]
  },
  {
   "cell_type": "code",
   "execution_count": 24,
   "id": "cd816b0a",
   "metadata": {},
   "outputs": [
    {
     "name": "stdout",
     "output_type": "stream",
     "text": [
      "x increment  0.0   y increment 1.0\n"
     ]
    }
   ],
   "source": [
    "x_inc = x_dalta/nop;\n",
    "y_inc = y_dalta/nop;\n",
    "\n",
    "print(\"x increment \",x_inc, \"  y increment\",y_inc)"
   ]
  },
  {
   "cell_type": "code",
   "execution_count": 25,
   "id": "bba9ddb9",
   "metadata": {},
   "outputs": [],
   "source": [
    "points_list = [];\n",
    "for i in range(10, 10+nop):\n",
    "    points_list.append((int(0+i*x_inc), int(0+i*y_inc)));"
   ]
  },
  {
   "cell_type": "code",
   "execution_count": 26,
   "id": "0e2dfc3a",
   "metadata": {},
   "outputs": [
    {
     "data": {
      "text/plain": [
       "[(0, 10),\n",
       " (0, 11),\n",
       " (0, 12),\n",
       " (0, 13),\n",
       " (0, 14),\n",
       " (0, 15),\n",
       " (0, 16),\n",
       " (0, 17),\n",
       " (0, 18),\n",
       " (0, 19),\n",
       " (0, 20),\n",
       " (0, 21),\n",
       " (0, 22),\n",
       " (0, 23),\n",
       " (0, 24),\n",
       " (0, 25),\n",
       " (0, 26),\n",
       " (0, 27),\n",
       " (0, 28),\n",
       " (0, 29),\n",
       " (0, 30),\n",
       " (0, 31),\n",
       " (0, 32),\n",
       " (0, 33),\n",
       " (0, 34),\n",
       " (0, 35),\n",
       " (0, 36),\n",
       " (0, 37),\n",
       " (0, 38),\n",
       " (0, 39),\n",
       " (0, 40),\n",
       " (0, 41),\n",
       " (0, 42),\n",
       " (0, 43),\n",
       " (0, 44),\n",
       " (0, 45),\n",
       " (0, 46),\n",
       " (0, 47),\n",
       " (0, 48),\n",
       " (0, 49),\n",
       " (0, 50),\n",
       " (0, 51),\n",
       " (0, 52),\n",
       " (0, 53),\n",
       " (0, 54),\n",
       " (0, 55),\n",
       " (0, 56),\n",
       " (0, 57),\n",
       " (0, 58),\n",
       " (0, 59),\n",
       " (0, 60),\n",
       " (0, 61),\n",
       " (0, 62),\n",
       " (0, 63),\n",
       " (0, 64),\n",
       " (0, 65),\n",
       " (0, 66),\n",
       " (0, 67),\n",
       " (0, 68),\n",
       " (0, 69),\n",
       " (0, 70),\n",
       " (0, 71),\n",
       " (0, 72),\n",
       " (0, 73),\n",
       " (0, 74),\n",
       " (0, 75),\n",
       " (0, 76),\n",
       " (0, 77),\n",
       " (0, 78),\n",
       " (0, 79),\n",
       " (0, 80),\n",
       " (0, 81),\n",
       " (0, 82),\n",
       " (0, 83),\n",
       " (0, 84),\n",
       " (0, 85),\n",
       " (0, 86),\n",
       " (0, 87),\n",
       " (0, 88),\n",
       " (0, 89),\n",
       " (0, 90),\n",
       " (0, 91),\n",
       " (0, 92),\n",
       " (0, 93),\n",
       " (0, 94),\n",
       " (0, 95),\n",
       " (0, 96),\n",
       " (0, 97),\n",
       " (0, 98),\n",
       " (0, 99)]"
      ]
     },
     "execution_count": 26,
     "metadata": {},
     "output_type": "execute_result"
    }
   ],
   "source": [
    "points_list"
   ]
  },
  {
   "cell_type": "code",
   "execution_count": 27,
   "id": "8d877a26",
   "metadata": {},
   "outputs": [],
   "source": [
    "for i in points_list:\n",
    "    img[i]=[0,0,255];"
   ]
  },
  {
   "cell_type": "code",
   "execution_count": 28,
   "id": "9a7faa53",
   "metadata": {},
   "outputs": [],
   "source": [
    "cv2.imshow(\"new image\", img);\n",
    "cv2.waitKey(0);\n",
    "cv2.destroyAllWindows();"
   ]
  },
  {
   "cell_type": "code",
   "execution_count": null,
   "id": "dea85d7d",
   "metadata": {},
   "outputs": [],
   "source": []
  },
  {
   "cell_type": "code",
   "execution_count": null,
   "id": "2fcb109f",
   "metadata": {},
   "outputs": [],
   "source": []
  },
  {
   "cell_type": "markdown",
   "id": "0a045a25",
   "metadata": {},
   "source": [
    "#### Simplified way draw a line on image"
   ]
  },
  {
   "cell_type": "code",
   "execution_count": 41,
   "id": "df440b05",
   "metadata": {},
   "outputs": [],
   "source": [
    "# Read an Image\n",
    "img = cv2.imread(r'C:\\Users\\ABBAS\\Desktop\\JupyterPython\\Numpy\\DIP_Lab\\Images\\imge.jpg', 1);"
   ]
  },
  {
   "cell_type": "code",
   "execution_count": 34,
   "id": "d0c66e37",
   "metadata": {},
   "outputs": [],
   "source": [
    "# draw a line from (25,25)  to (200,200);\n",
    "x_dalta = 200-15;\n",
    "y_dalta = 200-25;\n",
    "nop = max(x_dalta, y_dalta);\n",
    "x_inc = x_dalta/nop;\n",
    "y_inc = y_dalta/nop;\n",
    "points_list = [];\n",
    "for i in range(15, 25+nop):\n",
    "    points_list.append((int(i*x_inc), int(i*y_inc)));\n",
    "\n",
    "for i in points_list:\n",
    "    img[i] = [0,0,255];\n",
    "    \n",
    "cv2.imshow(\"new image\", img);\n",
    "cv2.waitKey(0);\n",
    "cv2.destroyAllWindows();"
   ]
  },
  {
   "cell_type": "code",
   "execution_count": 44,
   "id": "eb48b7bd",
   "metadata": {},
   "outputs": [],
   "source": [
    "# draw a line from (25,25)  to (200,200);\n",
    "x_dalta = 200-15;\n",
    "y_dalta = 200-25;\n",
    "nop = max(x_dalta, y_dalta);\n",
    "x_inc = x_dalta/nop;\n",
    "y_inc = y_dalta/nop;\n",
    "points_list = [];\n",
    "for i in range(nop):\n",
    "    points_list.append((int(i*x_inc), int(i*y_inc)));\n",
    "\n",
    "for i in points_list:\n",
    "    img[i] = [0,0,255];\n",
    "    \n",
    "cv2.imshow(\"new image\", img);\n",
    "cv2.waitKey(0);\n",
    "cv2.destroyAllWindows();"
   ]
  },
  {
   "cell_type": "code",
   "execution_count": null,
   "id": "f1579513",
   "metadata": {},
   "outputs": [],
   "source": []
  },
  {
   "cell_type": "code",
   "execution_count": null,
   "id": "0be48bf7",
   "metadata": {},
   "outputs": [],
   "source": []
  }
 ],
 "metadata": {
  "kernelspec": {
   "display_name": "Python 3 (ipykernel)",
   "language": "python",
   "name": "python3"
  },
  "language_info": {
   "codemirror_mode": {
    "name": "ipython",
    "version": 3
   },
   "file_extension": ".py",
   "mimetype": "text/x-python",
   "name": "python",
   "nbconvert_exporter": "python",
   "pygments_lexer": "ipython3",
   "version": "3.10.9"
  }
 },
 "nbformat": 4,
 "nbformat_minor": 5
}
