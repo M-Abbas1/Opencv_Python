{
 "cells": [
  {
   "cell_type": "code",
   "execution_count": 1,
   "id": "224708e3",
   "metadata": {},
   "outputs": [],
   "source": [
    "import cv2;\n",
    "import datetime;\n",
    "import numpy as np;"
   ]
  },
  {
   "cell_type": "code",
   "execution_count": 6,
   "id": "55869571",
   "metadata": {},
   "outputs": [],
   "source": [
    "def click_event(event, x, y, flags, param):\n",
    "    if event == cv2.EVENT_FLAG_LBUTTON:\n",
    "        text = str(x)+','+str(y);\n",
    "        font = cv2.FONT_HERSHEY_COMPLEX_SMALL;\n",
    "        cv2.putText(img, text, (x,y), font, 0.5, (255,255,255), 1, cv2.LINE_AA);\n",
    "        cv2.imshow(\"Image\", img);\n",
    "    \n",
    "img = np.zeros((300,300), np.uint8);\n",
    "cv2.imshow(\"Image\", img);\n",
    "\n",
    "cv2.setMouseCallback(\"Image\", click_event);\n",
    "\n",
    "cv2.waitKey(0);\n",
    "cv2.destroyAllWindows();"
   ]
  },
  {
   "cell_type": "code",
   "execution_count": null,
   "id": "42b4e9db",
   "metadata": {},
   "outputs": [],
   "source": []
  },
  {
   "cell_type": "code",
   "execution_count": null,
   "id": "6503b41b",
   "metadata": {},
   "outputs": [],
   "source": []
  },
  {
   "cell_type": "code",
   "execution_count": 11,
   "id": "7b6dcbc2",
   "metadata": {},
   "outputs": [],
   "source": [
    "def click_event(event, x, y, flags, param):\n",
    "    if event == cv2.EVENT_FLAG_LBUTTON:\n",
    "        text = str(x) + ', ' + str(y);\n",
    "        font = cv2.FONT_HERSHEY_COMPLEX_SMALL;\n",
    "        cv2.putText(img, text, (x,y), font, 0.5, (255, 255, 255), 1, cv2.LINE_8);\n",
    "        cv2.imshow(\"Image\", img);\n",
    "    elif event == cv2.EVENT_FLAG_RBUTTON:\n",
    "        font = cv2.FONT_HERSHEY_COMPLEX_SMALL;\n",
    "        BGR = str(img[x,y,0]) + ', ' + str(img[x,y,1]) + ',' + str(img[x,y,2]);\n",
    "        cv2.putText(img, BGR, (x,y), font, 0.5, (0,0,0), 1, cv2.LINE_AA);\n",
    "        cv2.imshow(\"Image\", img);\n",
    "        \n",
    "        \n",
    "img = cv2.imread(r\"images\\lena.jpg\");\n",
    "cv2.imshow(\"Image\", img);\n",
    "\n",
    "cv2.setMouseCallback(\"Image\", click_event);\n",
    "\n",
    "cv2.waitKey(0);\n",
    "cv2.destroyAllWindows();"
   ]
  },
  {
   "cell_type": "code",
   "execution_count": null,
   "id": "0422cb38",
   "metadata": {},
   "outputs": [],
   "source": []
  },
  {
   "cell_type": "code",
   "execution_count": 3,
   "id": "008d89bc",
   "metadata": {},
   "outputs": [],
   "source": [
    "def click_event(event, x, y, flags, param):\n",
    "    if event == cv2.EVENT_FLAG_LBUTTON:\n",
    "        img[:] = 0;\n",
    "        text = str(x) + ',' + str(y);\n",
    "        font = cv2.FONT_HERSHEY_COMPLEX_SMALL;\n",
    "        cv2.putText(img, text, (x,y), font, 0.5, (255, 0, 0), 1, cv2.LINE_AA);\n",
    "        cv2.imshow(\"Image\", img);\n",
    "        \n",
    "img = np.zeros((300,300, 3), 'B');\n",
    "cv2.imshow(\"Image\", img);\n",
    "\n",
    "cv2.setMouseCallback(\"Image\", click_event);\n",
    "\n",
    "cv2.waitKey(0);\n",
    "cv2.destroyAllWindows();"
   ]
  },
  {
   "cell_type": "code",
   "execution_count": null,
   "id": "a555eb5e",
   "metadata": {},
   "outputs": [],
   "source": []
  },
  {
   "cell_type": "code",
   "execution_count": null,
   "id": "224bb9cd",
   "metadata": {},
   "outputs": [],
   "source": []
  },
  {
   "cell_type": "code",
   "execution_count": null,
   "id": "0126bd4e",
   "metadata": {},
   "outputs": [],
   "source": []
  },
  {
   "cell_type": "markdown",
   "id": "00214844",
   "metadata": {},
   "source": [
    "### Drawing Line With Mouse Click"
   ]
  },
  {
   "cell_type": "code",
   "execution_count": 9,
   "id": "fa5b14bf",
   "metadata": {},
   "outputs": [],
   "source": [
    "def click_event(event, x, y, flags, param):\n",
    "    if event == cv2.EVENT_FLAG_LBUTTON:\n",
    "        points.append((x,y));\n",
    "        cv2.circle(img, (x,y), 3, (0,0,255), -1);\n",
    "        if len(points) >= 2:\n",
    "            cv2.line(img, points[-1], points[-2], (255,0,0), 1);\n",
    "        cv2.imshow(\"Image\", img);\n",
    "        \n",
    "        \n",
    "        \n",
    "img = np.zeros((500,500, 3), np.uint8);\n",
    "cv2.imshow(\"Image\", img);\n",
    "points = [];\n",
    "\n",
    "cv2.setMouseCallback(\"Image\", click_event);\n",
    "\n",
    "cv2.waitKey(0);\n",
    "cv2.destroyAllWindows();"
   ]
  },
  {
   "cell_type": "code",
   "execution_count": null,
   "id": "998e2d16",
   "metadata": {},
   "outputs": [],
   "source": []
  },
  {
   "cell_type": "code",
   "execution_count": null,
   "id": "3051f2e2",
   "metadata": {},
   "outputs": [],
   "source": []
  },
  {
   "cell_type": "markdown",
   "id": "ff5517d8",
   "metadata": {},
   "source": [
    "### Displaying new window with the color that is clicked"
   ]
  },
  {
   "cell_type": "code",
   "execution_count": 8,
   "id": "a549c263",
   "metadata": {},
   "outputs": [],
   "source": [
    "def click_event(event, x, y, flags, param):\n",
    "    if event == cv2.EVENT_FLAG_LBUTTON:\n",
    "        r, g, b = img[x, y, 2], img[x, y, 1], img[x, y, 0];\n",
    "        colorImg = np.zeros((250, 250, 3), np.uint8);\n",
    "        colorImg[:] = [b,g,r];\n",
    "        cv2.imshow(\"Color Image\", colorImg);\n",
    "        \n",
    "img = cv2.imread(r\"images\\lena.jpg\");\n",
    "cv2.imshow(\"Image\", img);\n",
    "\n",
    "cv2.setMouseCallback(\"Image\", click_event);\n",
    "\n",
    "cv2.waitKey(0);\n",
    "cv2.destroyAllWindows();"
   ]
  },
  {
   "cell_type": "code",
   "execution_count": null,
   "id": "21af18f2",
   "metadata": {},
   "outputs": [],
   "source": []
  },
  {
   "cell_type": "code",
   "execution_count": 5,
   "id": "093e746e",
   "metadata": {},
   "outputs": [],
   "source": [
    "# circle\n",
    "\n",
    "img = cv2.imread(r\"images\\lena.jpg\");\n",
    "cv2.circle(img, (100,100), 50, (255, 0, 0), 2);\n",
    "cv2.imshow(\"Image\", img);\n",
    "cv2.waitKey(0);\n",
    "cv2.destroyAllWindows();"
   ]
  },
  {
   "cell_type": "code",
   "execution_count": null,
   "id": "053c3974",
   "metadata": {},
   "outputs": [],
   "source": []
  }
 ],
 "metadata": {
  "kernelspec": {
   "display_name": "Python 3 (ipykernel)",
   "language": "python",
   "name": "python3"
  },
  "language_info": {
   "codemirror_mode": {
    "name": "ipython",
    "version": 3
   },
   "file_extension": ".py",
   "mimetype": "text/x-python",
   "name": "python",
   "nbconvert_exporter": "python",
   "pygments_lexer": "ipython3",
   "version": "3.10.9"
  }
 },
 "nbformat": 4,
 "nbformat_minor": 5
}
