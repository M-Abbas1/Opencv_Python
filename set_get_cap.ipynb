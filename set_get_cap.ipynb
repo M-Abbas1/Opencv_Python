{
 "cells": [
  {
   "cell_type": "code",
   "execution_count": 1,
   "id": "cc971d11",
   "metadata": {},
   "outputs": [],
   "source": [
    "import cv2;"
   ]
  },
  {
   "cell_type": "code",
   "execution_count": 6,
   "id": "9c9e5a77",
   "metadata": {},
   "outputs": [],
   "source": [
    "import cv2;\n",
    "\n",
    "cap = cv2.VideoCapture(0);\n",
    "\n",
    "while True:\n",
    "    ret, frame = cap.read();\n",
    "    cv2.imshow(\"Frame\", frame);\n",
    "    \n",
    "    if cv2.waitKey(1) == ord('q'):\n",
    "        break;\n",
    "        \n",
    "cap.release();\n",
    "cv2.destroyAllWindows();"
   ]
  },
  {
   "cell_type": "code",
   "execution_count": null,
   "id": "e8edba80",
   "metadata": {},
   "outputs": [],
   "source": []
  },
  {
   "cell_type": "code",
   "execution_count": 3,
   "id": "74edeb0b",
   "metadata": {},
   "outputs": [
    {
     "name": "stdout",
     "output_type": "stream",
     "text": [
      "Height: 640.0\n",
      "Wedth : 480.0\n"
     ]
    }
   ],
   "source": [
    "cap = cv2.VideoCapture(0);\n",
    "\n",
    "w = cap.get(cv2.CAP_PROP_FRAME_WIDTH);\n",
    "h = cap.get(cv2.CAP_PROP_FRAME_HEIGHT);\n",
    "\n",
    "print(\"Height: {}\".format(w));\n",
    "print(\"Wedth : {}\".format(h));"
   ]
  },
  {
   "cell_type": "code",
   "execution_count": 9,
   "id": "ca37cbe3",
   "metadata": {},
   "outputs": [],
   "source": [
    "cap = cv2.VideoCapture(0);\n",
    "\n",
    "cap.set(cv2.CAP_PROP_FRAME_WIDTH, 1200);\n",
    "cap.set(cv2.CAP_PROP_FRAME_HEIGHT, 400);\n",
    "while True:\n",
    "    ret, frame = cap.read();\n",
    "    cv2.imshow(\"Frame\", frame);\n",
    "    \n",
    "    if cv2.waitKey(1) == ord('q'):\n",
    "        break;\n",
    "\n",
    "cap.release();\n",
    "cv2.destroyAllWindows();"
   ]
  },
  {
   "cell_type": "code",
   "execution_count": null,
   "id": "26466c14",
   "metadata": {},
   "outputs": [],
   "source": []
  },
  {
   "cell_type": "code",
   "execution_count": 10,
   "id": "30c6ea1c",
   "metadata": {},
   "outputs": [
    {
     "name": "stdout",
     "output_type": "stream",
     "text": [
      "640.0\n",
      "480.0\n"
     ]
    }
   ],
   "source": [
    "cap = cv2.VideoCapture(0);\n",
    "\n",
    "cap.set(3, 1200);\n",
    "cap.set(4, 400);\n",
    "\n",
    "print(cap.get(cv2.CAP_PROP_FRAME_WIDTH));\n",
    "print(cap.get(cv2.CAP_PROP_FRAME_HEIGHT));"
   ]
  },
  {
   "cell_type": "code",
   "execution_count": 3,
   "id": "f7e50c94",
   "metadata": {},
   "outputs": [],
   "source": [
    "cap = cv2.VideoCapture(0);\n",
    "\n",
    "while(cap.isOpened()):\n",
    "    ret, frame = cap.read();\n",
    "    \n",
    "    if ret:\n",
    "        gray = cv2.cvtColor(frame, cv2.COLOR_BGR2GRAY);\n",
    "        cv2.imshow(\"Frame\", gray);\n",
    "        if cv2.waitKey(1) == ord('q'):\n",
    "            break;\n",
    "    else:\n",
    "        break;\n",
    "        \n",
    "cap.release();\n",
    "cv2.destroyAllWindows();"
   ]
  }
 ],
 "metadata": {
  "kernelspec": {
   "display_name": "Python 3 (ipykernel)",
   "language": "python",
   "name": "python3"
  },
  "language_info": {
   "codemirror_mode": {
    "name": "ipython",
    "version": 3
   },
   "file_extension": ".py",
   "mimetype": "text/x-python",
   "name": "python",
   "nbconvert_exporter": "python",
   "pygments_lexer": "ipython3",
   "version": "3.10.9"
  }
 },
 "nbformat": 4,
 "nbformat_minor": 5
}
