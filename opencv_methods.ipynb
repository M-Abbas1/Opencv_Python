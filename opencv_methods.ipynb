{
 "cells": [
  {
   "cell_type": "code",
   "execution_count": 1,
   "id": "fe60a0ae",
   "metadata": {},
   "outputs": [],
   "source": [
    "import cv2; \n",
    "import numpy as np;"
   ]
  },
  {
   "cell_type": "code",
   "execution_count": 28,
   "id": "610cc6cd",
   "metadata": {},
   "outputs": [],
   "source": [
    "img = cv2.imread(r\"images\\messi.jpg\");\n",
    "cv2.imshow(\"Messi\", img);\n",
    "cv2.waitKey(0);\n",
    "cv2.destroyAllWindows();"
   ]
  },
  {
   "cell_type": "code",
   "execution_count": 3,
   "id": "e11f0a67",
   "metadata": {},
   "outputs": [
    {
     "data": {
      "text/plain": [
       "(2528, 2032, 3)"
      ]
     },
     "execution_count": 3,
     "metadata": {},
     "output_type": "execute_result"
    }
   ],
   "source": [
    "img.shape"
   ]
  },
  {
   "cell_type": "code",
   "execution_count": 4,
   "id": "ddaed990",
   "metadata": {},
   "outputs": [],
   "source": [
    "imgScaled = img[0:img.shape[0]:2, 0:img.shape[1]:2];"
   ]
  },
  {
   "cell_type": "code",
   "execution_count": 5,
   "id": "eefb34d6",
   "metadata": {},
   "outputs": [],
   "source": [
    "cv2.imshow(\"Messi\", imgScaled);\n",
    "cv2.waitKey(0);\n",
    "cv2.destroyAllWindows();"
   ]
  },
  {
   "cell_type": "code",
   "execution_count": 6,
   "id": "27c695fe",
   "metadata": {},
   "outputs": [
    {
     "data": {
      "text/plain": [
       "(1264, 1016, 3)"
      ]
     },
     "execution_count": 6,
     "metadata": {},
     "output_type": "execute_result"
    }
   ],
   "source": [
    "imgScaled.shape"
   ]
  },
  {
   "cell_type": "code",
   "execution_count": 7,
   "id": "ab8ba145",
   "metadata": {},
   "outputs": [],
   "source": [
    "imgScaled2 = imgScaled[0:imgScaled.shape[0]:2, 0:imgScaled.shape[1]:2];\n",
    "cv2.imshow(\"Messi\", imgScaled2);\n",
    "cv2.waitKey(0);\n",
    "cv2.destroyAllWindows();"
   ]
  },
  {
   "cell_type": "code",
   "execution_count": 8,
   "id": "9af12269",
   "metadata": {},
   "outputs": [
    {
     "data": {
      "text/plain": [
       "(632, 508, 3)"
      ]
     },
     "execution_count": 8,
     "metadata": {},
     "output_type": "execute_result"
    }
   ],
   "source": [
    "imgScaled2.shape"
   ]
  },
  {
   "cell_type": "code",
   "execution_count": 9,
   "id": "3a43ea52",
   "metadata": {},
   "outputs": [],
   "source": [
    "imgScaled3 = imgScaled2[0:imgScaled.shape[0]:2, 0:imgScaled.shape[1]:2];\n",
    "cv2.imshow(\"Messi\", imgScaled3);\n",
    "cv2.waitKey(0);\n",
    "cv2.destroyAllWindows();"
   ]
  },
  {
   "cell_type": "code",
   "execution_count": 10,
   "id": "61f91c29",
   "metadata": {},
   "outputs": [
    {
     "data": {
      "text/plain": [
       "(316, 254, 3)"
      ]
     },
     "execution_count": 10,
     "metadata": {},
     "output_type": "execute_result"
    }
   ],
   "source": [
    "imgScaled3.shape"
   ]
  },
  {
   "cell_type": "code",
   "execution_count": null,
   "id": "a7865d38",
   "metadata": {},
   "outputs": [],
   "source": []
  },
  {
   "cell_type": "code",
   "execution_count": 42,
   "id": "ec322c9c",
   "metadata": {},
   "outputs": [],
   "source": [
    "img = cv2.imread(r\"images\\messi.jpg\");\n",
    "img2 = cv2.imread(r\"images\\lena.jpg\");"
   ]
  },
  {
   "cell_type": "code",
   "execution_count": 43,
   "id": "d0d3ef7e",
   "metadata": {},
   "outputs": [],
   "source": [
    "img = cv2.resize(img, (512, 512));\n",
    "img2 = cv2.resize(img2, (512, 512));"
   ]
  },
  {
   "cell_type": "code",
   "execution_count": 44,
   "id": "e6549e81",
   "metadata": {},
   "outputs": [],
   "source": [
    "res = cv2.add(img, img2);\n",
    "cv2.imshow(\"Image\", res);\n",
    "cv2.waitKey(0);\n",
    "cv2.destroyAllWindows();"
   ]
  },
  {
   "cell_type": "code",
   "execution_count": 46,
   "id": "2c8877a5",
   "metadata": {},
   "outputs": [],
   "source": [
    "res = cv2.addWeighted(img, 0.7, img2, 0.3, 0);\n",
    "cv2.imshow(\"Image\", res);\n",
    "cv2.waitKey(0);\n",
    "cv2.destroyAllWindows();"
   ]
  },
  {
   "cell_type": "code",
   "execution_count": null,
   "id": "99158847",
   "metadata": {},
   "outputs": [],
   "source": []
  },
  {
   "cell_type": "code",
   "execution_count": null,
   "id": "92603e22",
   "metadata": {},
   "outputs": [],
   "source": []
  },
  {
   "cell_type": "code",
   "execution_count": null,
   "id": "e98aa746",
   "metadata": {},
   "outputs": [],
   "source": []
  },
  {
   "cell_type": "code",
   "execution_count": null,
   "id": "eed83b6e",
   "metadata": {},
   "outputs": [],
   "source": []
  }
 ],
 "metadata": {
  "kernelspec": {
   "display_name": "Python 3 (ipykernel)",
   "language": "python",
   "name": "python3"
  },
  "language_info": {
   "codemirror_mode": {
    "name": "ipython",
    "version": 3
   },
   "file_extension": ".py",
   "mimetype": "text/x-python",
   "name": "python",
   "nbconvert_exporter": "python",
   "pygments_lexer": "ipython3",
   "version": "3.10.9"
  }
 },
 "nbformat": 4,
 "nbformat_minor": 5
}
