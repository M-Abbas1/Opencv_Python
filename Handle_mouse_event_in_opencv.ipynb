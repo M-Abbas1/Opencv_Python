{
 "cells": [
  {
   "cell_type": "code",
   "execution_count": 3,
   "id": "eac46f36",
   "metadata": {},
   "outputs": [],
   "source": [
    "import cv2;"
   ]
  },
  {
   "cell_type": "code",
   "execution_count": null,
   "id": "3348dd17",
   "metadata": {},
   "outputs": [],
   "source": [
    "events = [i for i in dir(cv2) if \"EVENT\" in i];\n",
    "print(events);"
   ]
  },
  {
   "cell_type": "code",
   "execution_count": null,
   "id": "b95eab64",
   "metadata": {},
   "outputs": [],
   "source": [
    "def click_event()"
   ]
  },
  {
   "cell_type": "code",
   "execution_count": null,
   "id": "1cd919d4",
   "metadata": {},
   "outputs": [],
   "source": []
  },
  {
   "cell_type": "code",
   "execution_count": null,
   "id": "c63071f8",
   "metadata": {},
   "outputs": [],
   "source": []
  },
  {
   "cell_type": "code",
   "execution_count": null,
   "id": "aa789355",
   "metadata": {},
   "outputs": [],
   "source": []
  }
 ],
 "metadata": {
  "celltoolbar": "Raw Cell Format",
  "kernelspec": {
   "display_name": "Python 3 (ipykernel)",
   "language": "python",
   "name": "python3"
  },
  "language_info": {
   "codemirror_mode": {
    "name": "ipython",
    "version": 3
   },
   "file_extension": ".py",
   "mimetype": "text/x-python",
   "name": "python",
   "nbconvert_exporter": "python",
   "pygments_lexer": "ipython3",
   "version": "3.10.9"
  }
 },
 "nbformat": 4,
 "nbformat_minor": 5
}
