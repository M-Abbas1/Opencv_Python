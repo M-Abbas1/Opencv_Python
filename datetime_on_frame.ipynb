{
 "cells": [
  {
   "cell_type": "code",
   "execution_count": 2,
   "id": "3f83390d",
   "metadata": {},
   "outputs": [],
   "source": [
    "import cv2;"
   ]
  },
  {
   "cell_type": "markdown",
   "id": "5d4f45b6",
   "metadata": {},
   "source": [
    "### Adding Text to the Frame"
   ]
  },
  {
   "cell_type": "code",
   "execution_count": 16,
   "id": "c8147af8",
   "metadata": {},
   "outputs": [],
   "source": [
    "cap = cv2.VideoCapture(0);\n",
    "\n",
    "while cap.isOpened():\n",
    "    ret, frame = cap.read();\n",
    "    if ret:\n",
    "        text = \"Width : \"+str(cap.get(3))+\" Height : \"+str(cap.get(4));\n",
    "        font = cv2.FONT_HERSHEY_COMPLEX;\n",
    "        frame = cv2.putText(frame, text, (50,450), font, 0.5, (0,0,255), 1, cv2.LINE_AA);\n",
    "        cv2.imshow(\"Frame\", frame);\n",
    "\n",
    "        if cv2.waitKey(1) == ord('q'):\n",
    "            break;\n",
    "    else:\n",
    "        break;\n",
    "        \n",
    "cap.release();\n",
    "cv2.destroyAllWindows();"
   ]
  },
  {
   "cell_type": "code",
   "execution_count": 17,
   "id": "0ee488bc",
   "metadata": {},
   "outputs": [],
   "source": [
    "cap = cv2.VideoCapture(0);\n",
    "\n",
    "num = 0;\n",
    "while cap.isOpened():\n",
    "    ret, frame = cap.read();\n",
    "    if ret:\n",
    "        num += 1;\n",
    "        text = str(num)\n",
    "        font = cv2.FONT_HERSHEY_COMPLEX;\n",
    "        frame = cv2.putText(frame, text, (50,450), font, 0.5, (0,0,255), 1, cv2.LINE_AA);\n",
    "        cv2.imshow(\"Frame\", frame);\n",
    "\n",
    "        if cv2.waitKey(1) == ord('q'):\n",
    "            break;\n",
    "    else:\n",
    "        break;\n",
    "        \n",
    "cap.release();\n",
    "cv2.destroyAllWindows();"
   ]
  },
  {
   "cell_type": "markdown",
   "id": "e057fd0c",
   "metadata": {},
   "source": [
    "### Showing Data and TIme on Video"
   ]
  },
  {
   "cell_type": "code",
   "execution_count": 3,
   "id": "4f8634d5",
   "metadata": {},
   "outputs": [],
   "source": [
    "import datetime\n",
    "\n",
    "cap = cv2.VideoCapture(0);\n",
    "\n",
    "while cap.isOpened():\n",
    "    ret, frame = cap.read();\n",
    "    \n",
    "    if ret:\n",
    "        dateNow = str(datetime.datetime.now());\n",
    "        font = cv2.FONT_HERSHEY_COMPLEX_SMALL;\n",
    "        frame = cv2.putText(frame, dateNow, (50,450), font, 0.5, (0,0,255), 1, cv2.LINE_AA);\n",
    "        cv2.imshow(\"Frame\", frame);\n",
    "        if cv2.waitKey(1) == ord('q'):\n",
    "            break;\n",
    "    else:\n",
    "        break;\n",
    "        \n",
    "cap.release();\n",
    "cv2.destroyAllWindows();"
   ]
  },
  {
   "cell_type": "code",
   "execution_count": null,
   "id": "516bfa18",
   "metadata": {},
   "outputs": [],
   "source": []
  },
  {
   "cell_type": "code",
   "execution_count": 3,
   "id": "cc4af350",
   "metadata": {},
   "outputs": [],
   "source": [
    "import datetime\n",
    "cap = cv2.VideoCapture(0);\n",
    "\n",
    "while cap.isOpened():\n",
    "    ret , frame = cap.read();\n",
    "    \n",
    "    if ret:\n",
    "        dateNow = str(datetime.datetime.now());\n",
    "        font = cv2.FONT_HERSHEY_COMPLEX;\n",
    "        frame = cv2.putText(frame, dateNow, (50,450), font, 0.5, (255,0,0), 1, cv2.LINE_AA);\n",
    "        cv2.imshow(\"Frame\", frame);\n",
    "        if cv2.waitKey(1) == ord('q'):\n",
    "            break;\n",
    "    else:\n",
    "        break;\n",
    "        \n",
    "cap.release();\n",
    "cv2.destroyAllWindows();\n",
    "            "
   ]
  },
  {
   "cell_type": "code",
   "execution_count": null,
   "id": "3309220b",
   "metadata": {},
   "outputs": [],
   "source": []
  }
 ],
 "metadata": {
  "kernelspec": {
   "display_name": "Python 3 (ipykernel)",
   "language": "python",
   "name": "python3"
  },
  "language_info": {
   "codemirror_mode": {
    "name": "ipython",
    "version": 3
   },
   "file_extension": ".py",
   "mimetype": "text/x-python",
   "name": "python",
   "nbconvert_exporter": "python",
   "pygments_lexer": "ipython3",
   "version": "3.10.9"
  }
 },
 "nbformat": 4,
 "nbformat_minor": 5
}
