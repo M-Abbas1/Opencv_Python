{
 "cells": [
  {
   "cell_type": "code",
   "execution_count": 1,
   "id": "6f3b3fff-5cc5-41ed-842b-f8867e3a3f04",
   "metadata": {},
   "outputs": [],
   "source": [
    "import numpy as np;\n",
    "import cv2; \n",
    "import matplotlib.pyplot as plt;"
   ]
  },
  {
   "cell_type": "markdown",
   "id": "21e51614-fd63-46ed-9e6f-1b534d1f2089",
   "metadata": {},
   "source": [
    "### Bitwise Operations on Image"
   ]
  },
  {
   "cell_type": "markdown",
   "id": "2cdd8fb7-7b5c-4675-a139-cea8f3f7fee3",
   "metadata": {},
   "source": [
    "#### Bitwise And"
   ]
  },
  {
   "cell_type": "code",
   "execution_count": 14,
   "id": "a245b27c-a1ce-447e-b981-7569c723e1d2",
   "metadata": {},
   "outputs": [],
   "source": [
    "img1 = np.concatenate((np.zeros((250,250,3), 'B'), 255*np.ones((250,250,3), 'B')), axis=1);\n",
    "img2 = np.concatenate((255*np.ones((250,250,3), 'B'), np.zeros((250,250,3), 'B')), axis=1);\n",
    "bitAnd = cv2.bitwise_and(img1, img2);\n",
    "# bitAnd = img1 & img2;\n",
    "cv2.imshow(\"Image 1\", img1);\n",
    "cv2.imshow(\"Image 2\", img2);\n",
    "cv2.imshow(\"Bitwise And Image\", bitAnd);\n",
    "cv2.waitKey(0);\n",
    "cv2.destroyAllWindows();"
   ]
  },
  {
   "cell_type": "markdown",
   "id": "edf2c5ae-4213-4d50-af5c-e3fbeaf000b7",
   "metadata": {},
   "source": [
    "#### Bitwise OR"
   ]
  },
  {
   "cell_type": "code",
   "execution_count": 23,
   "id": "0eb84991-5f52-4796-a0b6-cca6b9f3b235",
   "metadata": {},
   "outputs": [],
   "source": [
    "img1 = np.concatenate((np.zeros((250,250,3), 'B'), 255*np.ones((250,250,3), 'B')), axis=1);\n",
    "img2 = np.concatenate((255*np.ones((250,250,3), 'B'), np.zeros((250,250,3), 'B')), axis=1);\n",
    "# bitAnd = cv2.bitwise_or(img1, img2);\n",
    "bitOr = img1 | img2;\n",
    "cv2.imshow(\"Image 1\", img1);\n",
    "cv2.imshow(\"Image 2\", img2);\n",
    "cv2.imshow(\"Bitwise OR Image\", bitOr);\n",
    "cv2.waitKey(0);\n",
    "cv2.destroyAllWindows();"
   ]
  },
  {
   "cell_type": "markdown",
   "id": "8aeeceaf-33f1-4bb4-acf1-55e4d979d270",
   "metadata": {},
   "source": [
    "#### Bitwise NOT"
   ]
  },
  {
   "cell_type": "code",
   "execution_count": 24,
   "id": "3e4f9289-3e4e-4738-b9da-db3ed08753b2",
   "metadata": {},
   "outputs": [],
   "source": [
    "img1 = np.concatenate((np.zeros((250,250,3), 'B'), 255*np.ones((250,250,3), 'B')), axis=1);\n",
    "bitNot = cv2.bitwise_not(img1);\n",
    "cv2.imshow(\"Image 1\", img1);\n",
    "cv2.imshow(\"Bitwise Not Image\", bitNot);\n",
    "cv2.waitKey(0);\n",
    "cv2.destroyAllWindows();"
   ]
  },
  {
   "cell_type": "markdown",
   "id": "ca2aabc6-bf79-4ffe-9bd3-d40a223b3301",
   "metadata": {},
   "source": [
    "#### Bitwise XOR"
   ]
  },
  {
   "cell_type": "code",
   "execution_count": 25,
   "id": "3e8cb6a9-88c8-4c90-9ed9-3fa6e3edcbd2",
   "metadata": {},
   "outputs": [],
   "source": [
    "img1 = np.concatenate((np.zeros((250,250,3), 'B'), 255*np.ones((250,250,3), 'B')), axis=1);\n",
    "img2 = np.concatenate((255*np.ones((250,250,3), 'B'), np.zeros((250,250,3), 'B')), axis=1);\n",
    "bitXor = cv2.bitwise_xor(img1, img2);\n",
    "cv2.imshow(\"Image 1\", img1);\n",
    "cv2.imshow(\"Image 2\", img2);\n",
    "cv2.imshow(\"Bitwise XOR Image\", bitXor);\n",
    "cv2.waitKey(0);\n",
    "cv2.destroyAllWindows();"
   ]
  },
  {
   "cell_type": "code",
   "execution_count": null,
   "id": "890d9409-5d85-43ea-af42-281754390592",
   "metadata": {},
   "outputs": [],
   "source": []
  }
 ],
 "metadata": {
  "kernelspec": {
   "display_name": "Python 3 (ipykernel)",
   "language": "python",
   "name": "python3"
  },
  "language_info": {
   "codemirror_mode": {
    "name": "ipython",
    "version": 3
   },
   "file_extension": ".py",
   "mimetype": "text/x-python",
   "name": "python",
   "nbconvert_exporter": "python",
   "pygments_lexer": "ipython3",
   "version": "3.11.7"
  }
 },
 "nbformat": 4,
 "nbformat_minor": 5
}
