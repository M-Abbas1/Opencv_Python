{
 "cells": [
  {
   "cell_type": "code",
   "execution_count": 1,
   "id": "40565e17",
   "metadata": {},
   "outputs": [],
   "source": [
    "import numpy as np;\n",
    "import cv2;"
   ]
  },
  {
   "cell_type": "code",
   "execution_count": 2,
   "id": "54a5cf4f",
   "metadata": {},
   "outputs": [],
   "source": [
    "# Read an Image\n",
    "img = cv2.imread(r'C:\\Users\\ABBAS\\Desktop\\JupyterPython\\Numpy\\DIP_Lab\\Images\\imge.jpg', 1);"
   ]
  },
  {
   "cell_type": "code",
   "execution_count": 10,
   "id": "4daf1fed",
   "metadata": {},
   "outputs": [],
   "source": [
    "# Show Image\n",
    "cv2.imshow(\"Lena\", img);\n",
    "cv2.waitKey(0);\n",
    "cv2.destroyAllWindows();"
   ]
  },
  {
   "cell_type": "code",
   "execution_count": 11,
   "id": "35625d9d",
   "metadata": {},
   "outputs": [],
   "source": [
    "# Drawing stright line on image\n",
    "# void \tcv::line (InputOutputArray img, Point pt1, Point pt2, const Scalar &color, int thickness=1, \n",
    "# int lineType=LINE_8, int shift=0)\n",
    "\n",
    "lined_img = cv2.line(img.copy(), (20,30), (200,200), (255,0,0), 10);\n",
    "cv2.imshow(\"Lined Lena\", lined_img);\n",
    "cv2.waitKey(0);\n",
    "cv2.destroyAllWindows();"
   ]
  },
  {
   "cell_type": "code",
   "execution_count": 14,
   "id": "9820de78",
   "metadata": {},
   "outputs": [],
   "source": [
    "# Draw stright line on image \n",
    "lined_img1 = cv2.line(img.copy(), (50,50), (200,100), (173, 75, 172), 10);\n",
    "cv2.imshow(\"Lined lena\", lined_img1);\n",
    "cv2.waitKey(0);\n",
    "cv2.destroyAllWindows();"
   ]
  },
  {
   "cell_type": "code",
   "execution_count": null,
   "id": "e7c6e43a",
   "metadata": {},
   "outputs": [],
   "source": []
  },
  {
   "cell_type": "code",
   "execution_count": 20,
   "id": "f07feb9a",
   "metadata": {},
   "outputs": [],
   "source": [
    "# Drwaing Arrowed Line on Image\n",
    "# void \tcv::arrowedLine (InputOutputArray img, Point pt1, Point pt2, const Scalar &color, int thickness=1, \n",
    "# int line_type=8, int shift=0, double tipLength=0.1)\n",
    "\n",
    "arrow_img = cv2.arrowedLine(img.copy(), (225, 0), (50, 200), (173, 75, 172), 10);\n",
    "cv2.imshow(\"Arrow Line Image\", arrow_img);\n",
    "cv2.waitKey(0);\n",
    "cv2.destroyAllWindows();"
   ]
  },
  {
   "cell_type": "code",
   "execution_count": 3,
   "id": "298ca9ad",
   "metadata": {},
   "outputs": [],
   "source": [
    "arrow_img1 = cv2.arrowedLine(img.copy(), (100, 0), (100, 200), (173, 75, 172), 5);\n",
    "cv2.imshow(\"Arrowed Image\", arrow_img1);\n",
    "cv2.waitKey(0);\n",
    "cv2.destroyAllWindows();"
   ]
  },
  {
   "cell_type": "code",
   "execution_count": null,
   "id": "7e43c934",
   "metadata": {},
   "outputs": [],
   "source": []
  },
  {
   "cell_type": "code",
   "execution_count": 5,
   "id": "3aaf576b",
   "metadata": {},
   "outputs": [],
   "source": [
    "# Drawing Rectangle on image\n",
    "# void \tcv::rectangle (InputOutputArray img, Point pt1, Point pt2, const Scalar &color, int thickness=1, \n",
    "# int lineType=LINE_8, int shift=0)\n",
    "\n",
    "rec_img = cv2.rectangle(img.copy(), (20,20), (100,100), (173, 75, 172), 10);\n",
    "cv2.imshow(\"Rectangle Image\", rec_img);\n",
    "cv2.waitKey(0);\n",
    "cv2.destroyAllWindows();"
   ]
  },
  {
   "cell_type": "code",
   "execution_count": 6,
   "id": "1a64de50",
   "metadata": {},
   "outputs": [],
   "source": [
    "# Drawing Rectangle on image\n",
    "rec_img1 = cv2.rectangle(img.copy(), (20,20), (100,100), (173, 75, 172), 3);\n",
    "cv2.imshow(\"Rectangle Image\", rec_img1);\n",
    "cv2.waitKey(0);\n",
    "cv2.destroyAllWindows();"
   ]
  },
  {
   "cell_type": "code",
   "execution_count": 7,
   "id": "fecbf7c1",
   "metadata": {},
   "outputs": [],
   "source": [
    "# Drawing Fill rectangle on image\n",
    "fill_rec = cv2.rectangle(img.copy(), (30,10), (150, 100), (173, 50, 180), -1);\n",
    "cv2.imshow(\"Fill Rectangle Image\", fill_rec);\n",
    "cv2.waitKey(0);\n",
    "cv2.destroyAllWindows();"
   ]
  },
  {
   "cell_type": "code",
   "execution_count": null,
   "id": "33f4771a",
   "metadata": {},
   "outputs": [],
   "source": []
  },
  {
   "cell_type": "code",
   "execution_count": null,
   "id": "9b0819ec",
   "metadata": {},
   "outputs": [],
   "source": [
    "# void \tcv::circle (InputOutputArray img, Point center, int radius, const Scalar &color, int thickness=1, \n",
    "# int lineType=LINE_8, int shift=0)"
   ]
  },
  {
   "cell_type": "code",
   "execution_count": 10,
   "id": "2540f749",
   "metadata": {},
   "outputs": [],
   "source": [
    "# Drawing Circle on image\n",
    "circle_img = cv2.circle(img.copy(), (100,100), 100, (173, 50, 190), 3);\n",
    "cv2.imshow(\"Circle Image\", circle_img);\n",
    "cv2.waitKey(0);\n",
    "cv2.destroyAllWindows();"
   ]
  },
  {
   "cell_type": "code",
   "execution_count": 13,
   "id": "4c3c2806",
   "metadata": {},
   "outputs": [],
   "source": [
    "fill_circle = cv2.circle(img=img.copy(), center=(100,100), radius=70, color=(120,50,30), thickness=-1);\n",
    "cv2.imshow(\"fill Circle\", fill_circle);\n",
    "cv2.waitKey(0);\n",
    "cv2.destroyAllWindows();"
   ]
  },
  {
   "cell_type": "code",
   "execution_count": null,
   "id": "db290294",
   "metadata": {},
   "outputs": [],
   "source": []
  },
  {
   "cell_type": "code",
   "execution_count": 22,
   "id": "7cfc504a",
   "metadata": {},
   "outputs": [],
   "source": [
    "# Putting Text Into The Image\n",
    "# cv2.putText(img, text, start_point, font, size, color, thickness, line_type)\n",
    "\n",
    "#  void \tcv::putText (InputOutputArray img, const String &text, Point org, int fontFace, double fontScale, Scalar color, int thickness=1, \n",
    "# int lineType=LINE_8, bool bottomLeftOrigin=false)\n",
    "\n",
    "text_img = cv2.putText(img.copy(), \"Lena\",  (20,100), cv2.FONT_ITALIC , 2, (124, 49, 233), 4, cv2.LINE_4);\n",
    "cv2.imshow(\"text image\", text_img);\n",
    "cv2.waitKey(0);\n",
    "cv2.destroyAllWindows();"
   ]
  },
  {
   "cell_type": "code",
   "execution_count": 27,
   "id": "b4f3113f",
   "metadata": {},
   "outputs": [],
   "source": [
    "text_img1 = cv2.putText(img.copy(), \"Lena\", (20,200), cv2.FONT_HERSHEY_SCRIPT_SIMPLEX, 2, (124,50,233), 4, cv2.LINE_AA);\n",
    "cv2.imshow(\"text image\", text_img1);\n",
    "cv2.waitKey(0);\n",
    "cv2.destroyAllWindows();"
   ]
  },
  {
   "cell_type": "code",
   "execution_count": null,
   "id": "d2823ca0",
   "metadata": {},
   "outputs": [],
   "source": []
  }
 ],
 "metadata": {
  "kernelspec": {
   "display_name": "Python 3 (ipykernel)",
   "language": "python",
   "name": "python3"
  },
  "language_info": {
   "codemirror_mode": {
    "name": "ipython",
    "version": 3
   },
   "file_extension": ".py",
   "mimetype": "text/x-python",
   "name": "python",
   "nbconvert_exporter": "python",
   "pygments_lexer": "ipython3",
   "version": "3.10.9"
  }
 },
 "nbformat": 4,
 "nbformat_minor": 5
}
